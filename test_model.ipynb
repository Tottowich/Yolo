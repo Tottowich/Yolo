{
 "cells": [
  {
   "cell_type": "code",
   "execution_count": 1,
   "metadata": {},
   "outputs": [],
   "source": [
    "import os\n",
    "from ultralytics import YOLO\n",
    "import matplotlib.pyplot as plt"
   ]
  },
  {
   "attachments": {},
   "cell_type": "markdown",
   "metadata": {},
   "source": [
    "## Load the trained model\n",
    "Specify the path to the trained model and the path to the model directory. Also specify the path to the test data."
   ]
  },
  {
   "cell_type": "code",
   "execution_count": 2,
   "metadata": {},
   "outputs": [],
   "source": [
    "project_dir = 'yolov8/digit8n/'\n",
    "weights = os.path.join(project_dir, 'weights/best.pt')\n",
    "task = 'detect'\n",
    "test_data = '/home/thjo/Datasets/BolidenDigits/test/'\n",
    "# Create an image folder to store the results\n",
    "os.makedirs(os.path.join(project_dir, 'test_results'), exist_ok=True)\n",
    "model = YOLO(model=weights, task=task)"
   ]
  },
  {
   "cell_type": "code",
   "execution_count": 3,
   "metadata": {},
   "outputs": [
    {
     "name": "stderr",
     "output_type": "stream",
     "text": [
      "\n",
      "image 1/1 /home/thjo/Datasets/BolidenDigits/test/20220909_181144_59_20220910_232023.png: 416x416 1 Schenk, 4.2ms\n",
      "Speed: 1.0ms preprocess, 4.2ms inference, 1.6ms postprocess per image at shape (1, 3, 416, 416)\n"
     ]
    }
   ],
   "source": [
    "test_results = model.predict('/home/thjo/Datasets/BolidenDigits/test/20220909_181144_59_20220910_232023.png', project=project_dir, conf=0.3, iou=0.6)"
   ]
  },
  {
   "cell_type": "code",
   "execution_count": 6,
   "metadata": {},
   "outputs": [
    {
     "name": "stderr",
     "output_type": "stream",
     "text": [
      "Ultralytics YOLOv8.0.114 🚀 Python-3.9.16 torch-2.0.1+cu117 CPU\n",
      "\n",
      "\u001b[34m\u001b[1mPyTorch:\u001b[0m starting from yolov8/schenk8n/weights/best.pt with input shape (1, 3, 416, 416) BCHW and output shape(s) (1, 6, 3549) (5.9 MB)\n",
      "\n",
      "\u001b[34m\u001b[1mONNX:\u001b[0m starting export with onnx 1.14.0 opset 17...\n",
      "\u001b[34m\u001b[1mONNX:\u001b[0m simplifying with onnxsim 0.4.31...\n"
     ]
    },
    {
     "name": "stdout",
     "output_type": "stream",
     "text": [
      "============= Diagnostic Run torch.onnx.export version 2.0.1+cu117 =============\n",
      "verbose: False, log level: Level.ERROR\n",
      "======================= 0 NONE 0 NOTE 0 WARNING 0 ERROR ========================\n",
      "\n"
     ]
    },
    {
     "name": "stderr",
     "output_type": "stream",
     "text": [
      "\u001b[34m\u001b[1mONNX:\u001b[0m export success ✅ 0.8s, saved as yolov8/schenk8n/weights/best.onnx (11.6 MB)\n",
      "\n",
      "Export complete (0.9s)\n",
      "Results saved to \u001b[1m/home/thjo/Code/Adopticum/YoloV8/yolov8/schenk8n/weights\u001b[0m\n",
      "Predict:         yolo predict task=detect model=yolov8/schenk8n/weights/best.onnx imgsz=416 \n",
      "Validate:        yolo val task=detect model=yolov8/schenk8n/weights/best.onnx imgsz=416 data=/home/thjo/Datasets/BolidenSchenk/data.yaml \n",
      "Visualize:       https://netron.app\n"
     ]
    },
    {
     "data": {
      "text/plain": [
       "'yolov8/schenk8n/weights/best.onnx'"
      ]
     },
     "execution_count": 6,
     "metadata": {},
     "output_type": "execute_result"
    }
   ],
   "source": [
    "model.export(format=\"onnx\",batch=1,imgsz=416, simplify=True)"
   ]
  }
 ],
 "metadata": {
  "kernelspec": {
   "display_name": "bolidenV8",
   "language": "python",
   "name": "python3"
  },
  "language_info": {
   "codemirror_mode": {
    "name": "ipython",
    "version": 3
   },
   "file_extension": ".py",
   "mimetype": "text/x-python",
   "name": "python",
   "nbconvert_exporter": "python",
   "pygments_lexer": "ipython3",
   "version": "3.9.16"
  },
  "orig_nbformat": 4
 },
 "nbformat": 4,
 "nbformat_minor": 2
}
